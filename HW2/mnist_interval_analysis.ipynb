{
 "cells": [
  {
   "cell_type": "markdown",
   "id": "bbe70a96",
   "metadata": {},
   "source": [
    "## Interval Analysis"
   ]
  },
  {
   "cell_type": "code",
   "execution_count": 2,
   "id": "6bbda12e",
   "metadata": {},
   "outputs": [
    {
     "ename": "ModuleNotFoundError",
     "evalue": "No module named 'torch'",
     "output_type": "error",
     "traceback": [
      "\u001b[31m---------------------------------------------------------------------------\u001b[39m",
      "\u001b[31mModuleNotFoundError\u001b[39m                       Traceback (most recent call last)",
      "\u001b[36mCell\u001b[39m\u001b[36m \u001b[39m\u001b[32mIn[2]\u001b[39m\u001b[32m, line 3\u001b[39m\n\u001b[32m      1\u001b[39m \u001b[38;5;66;03m# !pip install tensorboardX\u001b[39;00m\n\u001b[32m----> \u001b[39m\u001b[32m3\u001b[39m \u001b[38;5;28;01mimport\u001b[39;00m\u001b[38;5;250m \u001b[39m\u001b[34;01mtorch\u001b[39;00m\n\u001b[32m      4\u001b[39m \u001b[38;5;28;01mimport\u001b[39;00m\u001b[38;5;250m \u001b[39m\u001b[34;01mtorch\u001b[39;00m\u001b[34;01m.\u001b[39;00m\u001b[34;01mnn\u001b[39;00m\u001b[38;5;250m \u001b[39m\u001b[38;5;28;01mas\u001b[39;00m\u001b[38;5;250m \u001b[39m\u001b[34;01mnn\u001b[39;00m\n\u001b[32m      5\u001b[39m \u001b[38;5;28;01mimport\u001b[39;00m\u001b[38;5;250m \u001b[39m\u001b[34;01mtorch\u001b[39;00m\u001b[34;01m.\u001b[39;00m\u001b[34;01moptim\u001b[39;00m\u001b[38;5;250m \u001b[39m\u001b[38;5;28;01mas\u001b[39;00m\u001b[38;5;250m \u001b[39m\u001b[34;01moptim\u001b[39;00m\n",
      "\u001b[31mModuleNotFoundError\u001b[39m: No module named 'torch'"
     ]
    }
   ],
   "source": [
    "# !pip install tensorboardX\n",
    "\n",
    "import torch\n",
    "import torch.nn as nn\n",
    "import torch.optim as optim\n",
    "import torch.nn.functional as F\n",
    "import numpy as np\n",
    "import time\n",
    "import matplotlib.pyplot as plt\n",
    "\n",
    "from torchvision import datasets, transforms\n",
    "# from tensorboardX import SummaryWriter\n",
    "\n",
    "use_cuda = False\n",
    "device = torch.device(\"cuda\" if use_cuda else \"cpu\")\n",
    "batch_size = 64\n",
    "\n",
    "np.random.seed(42)\n",
    "torch.manual_seed(42)\n",
    "\n",
    "\n",
    "## Dataloaders\n",
    "train_dataset = datasets.MNIST('mnist_data/', train=True, download=True, transform=transforms.Compose(\n",
    "    [transforms.ToTensor()]\n",
    "))\n",
    "test_dataset = datasets.MNIST('mnist_data/', train=False, download=True, transform=transforms.Compose(\n",
    "    [transforms.ToTensor()]\n",
    "))\n",
    "\n",
    "train_loader = torch.utils.data.DataLoader(train_dataset, batch_size=batch_size, shuffle=True)\n",
    "test_loader = torch.utils.data.DataLoader(test_dataset, batch_size=batch_size, shuffle=False)\n",
    "\n",
    "## Simple NN. You can change this if you want. If you change it, mention the architectural details in your report.\n",
    "class Net(nn.Module):\n",
    "    def __init__(self):\n",
    "        super(Net, self).__init__()\n",
    "        self.fc = nn.Linear(28*28, 200)\n",
    "        self.fc2 = nn.Linear(200,10)\n",
    "\n",
    "    def forward(self, x):\n",
    "        x = x.view((-1, 28*28))\n",
    "        x = F.relu(self.fc(x))\n",
    "        x = self.fc2(x)\n",
    "        x = F.softmax(x, dim=-1) # added softmax for probabilities\n",
    "        return x\n",
    "\n",
    "class Normalize(nn.Module):\n",
    "    def forward(self, x):\n",
    "        return (x - 0.1307)/0.3081\n",
    "\n",
    "# Add the data normalization as a first \"layer\" to the network\n",
    "# this allows us to search for adverserial examples to the real image, rather than\n",
    "# to the normalized image\n",
    "model = nn.Sequential(Normalize(), Net())\n",
    "\n",
    "model = model.to(device)\n",
    "model.train()\n"
   ]
  },
  {
   "cell_type": "code",
   "execution_count": null,
   "id": "0a6282f7",
   "metadata": {},
   "outputs": [],
   "source": [
    "def train_model(model, num_epochs):\n",
    "    criterion = nn.CrossEntropyLoss()\n",
    "    optimizer = optim.SGD(model.parameters(), lr=0.001, momentum=0.9)\n",
    "\n",
    "    for epoch in range(num_epochs):\n",
    "        model.train()\n",
    "        running_loss = 0.0\n",
    "        for i, data in enumerate(train_loader, 0):\n",
    "            images, labels = data\n",
    "            images, labels = images.to(device), labels.to(device)\n",
    "\n",
    "            optimizer.zero_grad()\n",
    "            outputs = model(images)\n",
    "            loss = criterion(outputs, labels)\n",
    "            loss.backward()\n",
    "            optimizer.step()\n",
    "\n",
    "            running_loss += loss.item()\n",
    "\n",
    "        print(f'Epoch {epoch+1}/{num_epochs}, Loss: {running_loss/len(train_loader):.3f}')\n",
    "\n",
    "def test_model(model):\n",
    "    model.eval()\n",
    "    with torch.no_grad():\n",
    "        correct = 0\n",
    "        total = 0\n",
    "        for data in test_loader:\n",
    "            images, labels = data\n",
    "            images, labels = images.to(device), labels.to(device)\n",
    "            outputs = model(images)\n",
    "            _, predicted = torch.max(outputs.data, 1)\n",
    "            total += labels.size(0)\n",
    "            correct += (predicted == labels).sum().item()\n",
    "        print(f'Accuracy on images: {100 * correct / total}')"
   ]
  },
  {
   "cell_type": "code",
   "execution_count": null,
   "id": "72dd8bd6",
   "metadata": {},
   "outputs": [],
   "source": [
    "train_model(model, 10)\n",
    "test_model(model)"
   ]
  },
  {
   "cell_type": "markdown",
   "id": "c7c23f92",
   "metadata": {},
   "source": [
    "### Write the interval analysis for the simple model"
   ]
  },
  {
   "cell_type": "code",
   "execution_count": null,
   "id": "d97f7f25",
   "metadata": {},
   "outputs": [],
   "source": "# Install bound_propagation if needed\n# !pip install bound_propagation\n\nimport bound_propagation as bp\nfrom bound_propagation import IntervalBounds, HyperRectangle\n\ndef interval_analysis(model, x, epsilon):\n    \"\"\"\n    Perform interval analysis on the model for a given input and epsilon perturbation.\n    \n    Args:\n        model: The neural network model\n        x: Input tensor (single image or batch)\n        epsilon: Maximum perturbation magnitude\n    \n    Returns:\n        bounds: IntervalBounds object containing lower and upper bounds for the output\n    \"\"\"\n    # Create input bounds: [x - epsilon, x + epsilon]\n    # Clamp to valid pixel range [0, 1]\n    x_lower = torch.clamp(x - epsilon, 0, 1)\n    x_upper = torch.clamp(x + epsilon, 0, 1)\n    \n    # Create HyperRectangle for the input bounds\n    input_bounds = HyperRectangle(x_lower, x_upper)\n    \n    # Create interval bounds from the input\n    bounds = IntervalBounds(model, input_bounds)\n    \n    # Propagate bounds through the network\n    output_bounds = bounds.concretize()\n    \n    return output_bounds\n\ndef verify_robustness(model, x, true_label, epsilon):\n    \"\"\"\n    Verify if the model is robust to epsilon perturbations for a given input.\n    \n    Args:\n        model: The neural network model\n        x: Input tensor (single image)\n        true_label: True class label\n        epsilon: Maximum perturbation magnitude\n    \n    Returns:\n        is_robust: Boolean indicating if the model is provably robust\n        output_bounds: The output bounds from interval analysis\n    \"\"\"\n    model.eval()\n    \n    # Get interval bounds for the output\n    output_bounds = interval_analysis(model, x, epsilon)\n    \n    # Extract lower and upper bounds\n    lower_bounds = output_bounds.lower\n    upper_bounds = output_bounds.upper\n    \n    # Check if true label has minimum lower bound that is greater than\n    # maximum upper bound of all other labels\n    is_robust = True\n    true_label_lower = lower_bounds[0, true_label]\n    \n    for i in range(lower_bounds.shape[1]):\n        if i != true_label:\n            if upper_bounds[0, i] >= true_label_lower:\n                is_robust = False\n                break\n    \n    return is_robust, output_bounds\n\n# Test interval analysis on a single image\nmodel.eval()\ntest_iter = iter(test_loader)\ntest_images, test_labels = next(test_iter)\ntest_images, test_labels = test_images.to(device), test_labels.to(device)\n\n# Select first image\nx_test = test_images[0:1]\ny_test = test_labels[0]\n\n# Test with different epsilon values\nepsilons = [0.01, 0.05, 0.1, 0.2, 0.3]\n\nprint(f\"Testing interval analysis for image with true label: {y_test.item()}\")\nprint(\"-\" * 60)\n\nfor eps in epsilons:\n    is_robust, bounds = verify_robustness(model, x_test, y_test.item(), eps)\n    print(f\"Epsilon: {eps:.2f}, Provably Robust: {is_robust}\")\n    \n# Verify robustness on a batch of test images\ndef batch_verify_robustness(model, test_loader, epsilon, num_samples=100):\n    \"\"\"\n    Verify robustness on a batch of test images.\n    \n    Args:\n        model: The neural network model\n        test_loader: DataLoader for test data\n        epsilon: Maximum perturbation magnitude\n        num_samples: Number of samples to verify\n    \n    Returns:\n        robust_count: Number of provably robust samples\n        total_count: Total number of samples verified\n        robust_accuracy: Percentage of provably robust samples\n    \"\"\"\n    model.eval()\n    robust_count = 0\n    total_count = 0\n    \n    for images, labels in test_loader:\n        images, labels = images.to(device), labels.to(device)\n        \n        for i in range(images.shape[0]):\n            if total_count >= num_samples:\n                break\n                \n            x = images[i:i+1]\n            y = labels[i].item()\n            \n            # Get model prediction\n            with torch.no_grad():\n                pred = model(x).argmax(dim=1).item()\n            \n            # Only verify correctly classified samples\n            if pred == y:\n                is_robust, _ = verify_robustness(model, x, y, epsilon)\n                if is_robust:\n                    robust_count += 1\n                total_count += 1\n        \n        if total_count >= num_samples:\n            break\n    \n    robust_accuracy = 100 * robust_count / total_count if total_count > 0 else 0\n    return robust_count, total_count, robust_accuracy\n\n# Verify robustness on multiple samples\nprint(\"\\n\" + \"=\" * 60)\nprint(\"Batch verification of robustness\")\nprint(\"=\" * 60)\n\nfor eps in [0.01, 0.05, 0.1]:\n    robust_count, total_count, robust_acc = batch_verify_robustness(\n        model, test_loader, eps, num_samples=50\n    )\n    print(f\"Epsilon: {eps:.2f}, Robust: {robust_count}/{total_count}, \"\n          f\"Robust Accuracy: {robust_acc:.2f}%\")"
  }
 ],
 "metadata": {
  "kernelspec": {
   "display_name": "Python 3",
   "language": "python",
   "name": "python3"
  },
  "language_info": {
   "codemirror_mode": {
    "name": "ipython",
    "version": 3
   },
   "file_extension": ".py",
   "mimetype": "text/x-python",
   "name": "python",
   "nbconvert_exporter": "python",
   "pygments_lexer": "ipython3",
   "version": "3.11.2"
  }
 },
 "nbformat": 4,
 "nbformat_minor": 5
}